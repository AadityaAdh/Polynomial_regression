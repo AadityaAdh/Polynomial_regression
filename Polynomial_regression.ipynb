{
  "nbformat": 4,
  "nbformat_minor": 0,
  "metadata": {
    "colab": {
      "provenance": [],
      "authorship_tag": "ABX9TyOnp/YtIpbeOmbiGO+YHEb+",
      "include_colab_link": true
    },
    "kernelspec": {
      "name": "python3",
      "display_name": "Python 3"
    },
    "language_info": {
      "name": "python"
    }
  },
  "cells": [
    {
      "cell_type": "markdown",
      "metadata": {
        "id": "view-in-github",
        "colab_type": "text"
      },
      "source": [
        "<a href=\"https://colab.research.google.com/github/AadityaAdh/Polynomial_regression/blob/main/Polynomial_regression.ipynb\" target=\"_parent\"><img src=\"https://colab.research.google.com/assets/colab-badge.svg\" alt=\"Open In Colab\"/></a>"
      ]
    },
    {
      "cell_type": "code",
      "execution_count": 1,
      "metadata": {
        "id": "DngnBfBM4SWT"
      },
      "outputs": [],
      "source": [
        "import numpy as np\n",
        "import matplotlib.pyplot as plt\n",
        "from sklearn.linear_model import LinearRegression\n",
        "from sklearn.preprocessing import PolynomialFeatures\n",
        "from sklearn.metrics import r2_score\n",
        "\n"
      ]
    },
    {
      "cell_type": "code",
      "source": [
        "x=np.random.rand(50,1)*32\n",
        "print(x)"
      ],
      "metadata": {
        "colab": {
          "base_uri": "https://localhost:8080/"
        },
        "id": "U5X3lrL_4YX9",
        "outputId": "4cf2ec5c-80ec-429b-e41c-e4e39e0e8641"
      },
      "execution_count": 4,
      "outputs": [
        {
          "output_type": "stream",
          "name": "stdout",
          "text": [
            "[[31.48359081]\n",
            " [30.06900194]\n",
            " [31.57700154]\n",
            " [ 2.74116494]\n",
            " [28.18329953]\n",
            " [25.20261677]\n",
            " [18.29807285]\n",
            " [31.5370098 ]\n",
            " [30.01045797]\n",
            " [ 6.83607044]\n",
            " [14.55943347]\n",
            " [ 6.53212981]\n",
            " [29.43354223]\n",
            " [ 5.60535001]\n",
            " [ 0.95526425]\n",
            " [14.54086583]\n",
            " [24.55880424]\n",
            " [30.30280925]\n",
            " [27.38642574]\n",
            " [ 9.1347123 ]\n",
            " [20.96618776]\n",
            " [22.24018416]\n",
            " [ 6.64197525]\n",
            " [10.60930392]\n",
            " [ 8.38011734]\n",
            " [ 6.82335473]\n",
            " [ 7.61646608]\n",
            " [19.01393843]\n",
            " [ 7.77284678]\n",
            " [21.40584474]\n",
            " [18.99815732]\n",
            " [20.72059842]\n",
            " [18.80185251]\n",
            " [ 9.75471343]\n",
            " [30.4926371 ]\n",
            " [11.5736338 ]\n",
            " [ 4.20894276]\n",
            " [ 6.5854637 ]\n",
            " [15.53425902]\n",
            " [ 3.37194531]\n",
            " [ 0.69868446]\n",
            " [22.43451916]\n",
            " [19.64956679]\n",
            " [20.87064432]\n",
            " [ 2.22646051]\n",
            " [17.31224224]\n",
            " [ 8.76150131]\n",
            " [29.89245187]\n",
            " [ 8.4170667 ]\n",
            " [29.07097922]]\n"
          ]
        }
      ]
    },
    {
      "cell_type": "code",
      "source": [
        "#genearate y according to above x\n",
        "#y=0.5x2+0.5x+3\n",
        "y=0.5*x**2+0.5*x+3\n",
        "print(y)\n"
      ],
      "metadata": {
        "colab": {
          "base_uri": "https://localhost:8080/"
        },
        "id": "OvPYFSCj6JBS",
        "outputId": "5dc1be21-1f6a-4f83-ea11-0c35980f131d"
      },
      "execution_count": 11,
      "outputs": [
        {
          "output_type": "stream",
          "name": "stdout",
          "text": [
            "[[514.35004057]\n",
            " [470.10693986]\n",
            " [517.3420138 ]\n",
            " [  8.12757508]\n",
            " [414.24083604]\n",
            " [333.18725429]\n",
            " [179.55877149]\n",
            " [516.0599986 ]\n",
            " [468.31902283]\n",
            " [ 29.78396478]\n",
            " [116.26826824]\n",
            " [ 27.60042481]\n",
            " [450.88347517]\n",
            " [ 21.51264938]\n",
            " [  3.93389702]\n",
            " [115.98882244]\n",
            " [316.84683505]\n",
            " [477.28152878]\n",
            " [391.7013703 ]\n",
            " [ 49.28884051]\n",
            " [233.27360843]\n",
            " [261.43298789]\n",
            " [ 28.3789052 ]\n",
            " [ 64.58331676]\n",
            " [ 42.303242  ]\n",
            " [ 29.69076225]\n",
            " [ 35.81351082]\n",
            " [193.27189646]\n",
            " [ 37.09499689]\n",
            " [242.80801691]\n",
            " [192.96406952]\n",
            " [228.03189863]\n",
            " [189.15575513]\n",
            " [ 55.45457377]\n",
            " [483.14677712]\n",
            " [ 75.76131654]\n",
            " [ 13.96207095]\n",
            " [ 27.97689791]\n",
            " [131.42373111]\n",
            " [ 10.37098025]\n",
            " [  3.59342222]\n",
            " [265.87108445]\n",
            " [205.87752098]\n",
            " [231.22721937]\n",
            " [  6.59179346]\n",
            " [161.51298673]\n",
            " [ 45.76270324]\n",
            " [464.72556545]\n",
            " [ 42.63203923]\n",
            " [440.09640605]]\n"
          ]
        }
      ]
    },
    {
      "cell_type": "code",
      "source": [
        "#plotting the data\n",
        "plt.scatter(x, y,color='blue')\n",
        "plt.xlabel(\"X\")\n",
        "plt.ylabel(\"y\")\n",
        "plt.show()"
      ],
      "metadata": {
        "colab": {
          "base_uri": "https://localhost:8080/",
          "height": 470
        },
        "id": "PT1YRJG07HIH",
        "outputId": "cc3ac115-89ee-43eb-8972-1317d827dc0e"
      },
      "execution_count": 15,
      "outputs": [
        {
          "output_type": "display_data",
          "data": {
            "text/plain": [
              "<Figure size 640x480 with 1 Axes>"
            ],
            "image/png": "[encoded data removed]"
          },
          "metadata": {}
        }
      ]
    },
    {
      "cell_type": "code",
      "source": [
        "x_train=x[:41,:]\n",
        "print(x_train)\n"
      ],
      "metadata": {
        "colab": {
          "base_uri": "https://localhost:8080/"
        },
        "id": "RXksy3nQ7i5_",
        "outputId": "8cbf764f-03e5-4ee4-db1a-bcf117743bc7"
      },
      "execution_count": 20,
      "outputs": [
        {
          "output_type": "stream",
          "name": "stdout",
          "text": [
            "[[31.48359081]\n",
            " [30.06900194]\n",
            " [31.57700154]\n",
            " [ 2.74116494]\n",
            " [28.18329953]\n",
            " [25.20261677]\n",
            " [18.29807285]\n",
            " [31.5370098 ]\n",
            " [30.01045797]\n",
            " [ 6.83607044]\n",
            " [14.55943347]\n",
            " [ 6.53212981]\n",
            " [29.43354223]\n",
            " [ 5.60535001]\n",
            " [ 0.95526425]\n",
            " [14.54086583]\n",
            " [24.55880424]\n",
            " [30.30280925]\n",
            " [27.38642574]\n",
            " [ 9.1347123 ]\n",
            " [20.96618776]\n",
            " [22.24018416]\n",
            " [ 6.64197525]\n",
            " [10.60930392]\n",
            " [ 8.38011734]\n",
            " [ 6.82335473]\n",
            " [ 7.61646608]\n",
            " [19.01393843]\n",
            " [ 7.77284678]\n",
            " [21.40584474]\n",
            " [18.99815732]\n",
            " [20.72059842]\n",
            " [18.80185251]\n",
            " [ 9.75471343]\n",
            " [30.4926371 ]\n",
            " [11.5736338 ]\n",
            " [ 4.20894276]\n",
            " [ 6.5854637 ]\n",
            " [15.53425902]\n",
            " [ 3.37194531]\n",
            " [ 0.69868446]]\n"
          ]
        }
      ]
    },
    {
      "cell_type": "code",
      "source": [
        "y_train=y[:41,:]\n",
        "print(y_train)"
      ],
      "metadata": {
        "colab": {
          "base_uri": "https://localhost:8080/"
        },
        "id": "2vZrG4fd81AF",
        "outputId": "cb338966-d070-4c25-d9ee-f07ee5120e11"
      },
      "execution_count": 22,
      "outputs": [
        {
          "output_type": "stream",
          "name": "stdout",
          "text": [
            "[[514.35004057]\n",
            " [470.10693986]\n",
            " [517.3420138 ]\n",
            " [  8.12757508]\n",
            " [414.24083604]\n",
            " [333.18725429]\n",
            " [179.55877149]\n",
            " [516.0599986 ]\n",
            " [468.31902283]\n",
            " [ 29.78396478]\n",
            " [116.26826824]\n",
            " [ 27.60042481]\n",
            " [450.88347517]\n",
            " [ 21.51264938]\n",
            " [  3.93389702]\n",
            " [115.98882244]\n",
            " [316.84683505]\n",
            " [477.28152878]\n",
            " [391.7013703 ]\n",
            " [ 49.28884051]\n",
            " [233.27360843]\n",
            " [261.43298789]\n",
            " [ 28.3789052 ]\n",
            " [ 64.58331676]\n",
            " [ 42.303242  ]\n",
            " [ 29.69076225]\n",
            " [ 35.81351082]\n",
            " [193.27189646]\n",
            " [ 37.09499689]\n",
            " [242.80801691]\n",
            " [192.96406952]\n",
            " [228.03189863]\n",
            " [189.15575513]\n",
            " [ 55.45457377]\n",
            " [483.14677712]\n",
            " [ 75.76131654]\n",
            " [ 13.96207095]\n",
            " [ 27.97689791]\n",
            " [131.42373111]\n",
            " [ 10.37098025]\n",
            " [  3.59342222]]\n"
          ]
        }
      ]
    },
    {
      "cell_type": "code",
      "source": [
        "x_test=x[41:,:]\n",
        "print(x_test)"
      ],
      "metadata": {
        "colab": {
          "base_uri": "https://localhost:8080/"
        },
        "id": "dHd8VZ_T9HR0",
        "outputId": "735cbe53-2d21-4492-a0f1-321c82b29551"
      },
      "execution_count": 24,
      "outputs": [
        {
          "output_type": "stream",
          "name": "stdout",
          "text": [
            "[[22.43451916]\n",
            " [19.64956679]\n",
            " [20.87064432]\n",
            " [ 2.22646051]\n",
            " [17.31224224]\n",
            " [ 8.76150131]\n",
            " [29.89245187]\n",
            " [ 8.4170667 ]\n",
            " [29.07097922]]\n"
          ]
        }
      ]
    },
    {
      "cell_type": "code",
      "source": [
        "y_test=y[41:,:]\n",
        "print(y_test)"
      ],
      "metadata": {
        "colab": {
          "base_uri": "https://localhost:8080/"
        },
        "id": "EE5Drvvc9bv8",
        "outputId": "c71af6e3-d64c-4970-9237-874ab3e4a5d9"
      },
      "execution_count": 26,
      "outputs": [
        {
          "output_type": "stream",
          "name": "stdout",
          "text": [
            "[[265.87108445]\n",
            " [205.87752098]\n",
            " [231.22721937]\n",
            " [  6.59179346]\n",
            " [161.51298673]\n",
            " [ 45.76270324]\n",
            " [464.72556545]\n",
            " [ 42.63203923]\n",
            " [440.09640605]]\n"
          ]
        }
      ]
    },
    {
      "cell_type": "code",
      "source": [
        "#lets fit linear regression in this first\n",
        "#linear regression ko object banako\n",
        "linear=LinearRegression()\n",
        "linear.fit(x_train,y_train)"
      ],
      "metadata": {
        "colab": {
          "base_uri": "https://localhost:8080/",
          "height": 72
        },
        "id": "5RtPgxsj9hXU",
        "outputId": "f6dd2f6e-afa6-447e-8a54-ca2ea75c4492"
      },
      "execution_count": 28,
      "outputs": [
        {
          "output_type": "execute_result",
          "data": {
            "text/plain": [
              "LinearRegression()"
            ],
            "text/html": [
              "<style>#sk-container-id-1 {color: black;background-color: white;}#sk-container-id-1 pre{padding: 0;}#sk-container-id-1 div.sk-toggleable {background-color: white;}#sk-container-id-1 label.sk-toggleable__label {cursor: pointer;display: block;width: 100%;margin-bottom: 0;padding: 0.3em;box-sizing: border-box;text-align: center;}#sk-container-id-1 label.sk-toggleable__label-arrow:before {content: \"▸\";float: left;margin-right: 0.25em;color: #696969;}#sk-container-id-1 label.sk-toggleable__label-arrow:hover:before {color: black;}#sk-container-id-1 div.sk-estimator:hover label.sk-toggleable__label-arrow:before {color: black;}#sk-container-id-1 div.sk-toggleable__content {max-height: 0;max-width: 0;overflow: hidden;text-align: left;background-color: #f0f8ff;}#sk-container-id-1 div.sk-toggleable__content pre {margin: 0.2em;color: black;border-radius: 0.25em;background-color: #f0f8ff;}#sk-container-id-1 input.sk-toggleable__control:checked~div.sk-toggleable__content {max-height: 200px;max-width: 100%;overflow: auto;}#sk-container-id-1 input.sk-toggleable__control:checked~label.sk-toggleable__label-arrow:before {content: \"▾\";}#sk-container-id-1 div.sk-estimator input.sk-toggleable__control:checked~label.sk-toggleable__label {background-color: #d4ebff;}#sk-container-id-1 div.sk-label input.sk-toggleable__control:checked~label.sk-toggleable__label {background-color: #d4ebff;}#sk-container-id-1 input.sk-hidden--visually {border: 0;clip: rect(1px 1px 1px 1px);clip: rect(1px, 1px, 1px, 1px);height: 1px;margin: -1px;overflow: hidden;padding: 0;position: absolute;width: 1px;}#sk-container-id-1 div.sk-estimator {font-family: monospace;background-color: #f0f8ff;border: 1px dotted black;border-radius: 0.25em;box-sizing: border-box;margin-bottom: 0.5em;}#sk-container-id-1 div.sk-estimator:hover {background-color: #d4ebff;}#sk-container-id-1 div.sk-parallel-item::after {content: \"\";width: 100%;border-bottom: 1px solid gray;flex-grow: 1;}#sk-container-id-1 div.sk-label:hover label.sk-toggleable__label {background-color: #d4ebff;}#sk-container-id-1 div.sk-serial::before {content: \"\";position: absolute;border-left: 1px solid gray;box-sizing: border-box;top: 0;bottom: 0;left: 50%;z-index: 0;}#sk-container-id-1 div.sk-serial {display: flex;flex-direction: column;align-items: center;background-color: white;padding-right: 0.2em;padding-left: 0.2em;position: relative;}#sk-container-id-1 div.sk-item {position: relative;z-index: 1;}#sk-container-id-1 div.sk-parallel {display: flex;align-items: stretch;justify-content: center;background-color: white;position: relative;}#sk-container-id-1 div.sk-item::before, #sk-container-id-1 div.sk-parallel-item::before {content: \"\";position: absolute;border-left: 1px solid gray;box-sizing: border-box;top: 0;bottom: 0;left: 50%;z-index: -1;}#sk-container-id-1 div.sk-parallel-item {display: flex;flex-direction: column;z-index: 1;position: relative;background-color: white;}#sk-container-id-1 div.sk-parallel-item:first-child::after {align-self: flex-end;width: 50%;}#sk-container-id-1 div.sk-parallel-item:last-child::after {align-self: flex-start;width: 50%;}#sk-container-id-1 div.sk-parallel-item:only-child::after {width: 0;}#sk-container-id-1 div.sk-dashed-wrapped {border: 1px dashed gray;margin: 0 0.4em 0.5em 0.4em;box-sizing: border-box;padding-bottom: 0.4em;background-color: white;}#sk-container-id-1 div.sk-label label {font-family: monospace;font-weight: bold;display: inline-block;line-height: 1.2em;}#sk-container-id-1 div.sk-label-container {text-align: center;}#sk-container-id-1 div.sk-container {/* jupyter's `normalize.less` sets `[hidden] { display: none; }` but bootstrap.min.css set `[hidden] { display: none !important; }` so we also need the `!important` here to be able to override the default hidden behavior on the sphinx rendered scikit-learn.org. See: https://github.com/scikit-learn/scikit-learn/issues/21755 */display: inline-block !important;position: relative;}#sk-container-id-1 div.sk-text-repr-fallback {display: none;}</style><div id=\"sk-container-id-1\" class=\"sk-top-container\"><div class=\"sk-text-repr-fallback\"><pre>LinearRegression()</pre><b>In a Jupyter environment, please rerun this cell to show the HTML representation or trust the notebook. <br />On GitHub, the HTML representation is unable to render, please try loading this page with nbviewer.org.</b></div><div class=\"sk-container\" hidden><div class=\"sk-item\"><div class=\"sk-estimator sk-toggleable\"><input class=\"sk-toggleable__control sk-hidden--visually\" id=\"sk-estimator-id-1\" type=\"checkbox\" checked><label for=\"sk-estimator-id-1\" class=\"sk-toggleable__label sk-toggleable__label-arrow\">LinearRegression</label><div class=\"sk-toggleable__content\"><pre>LinearRegression()</pre></div></div></div></div></div>"
            ]
          },
          "metadata": {},
          "execution_count": 28
        }
      ]
    },
    {
      "cell_type": "code",
      "source": [
        "y_pred = linear.predict(x_test)\n",
        "r2_score(y_test,y_pred)\n",
        "#so still it is not bad to apply linear regression in this case"
      ],
      "metadata": {
        "colab": {
          "base_uri": "https://localhost:8080/"
        },
        "id": "gXT9rZWU9vXD",
        "outputId": "59c3f6cb-b91b-4d2d-f6f3-e80704c36969"
      },
      "execution_count": 31,
      "outputs": [
        {
          "output_type": "execute_result",
          "data": {
            "text/plain": [
              "0.9394341494499621"
            ]
          },
          "metadata": {},
          "execution_count": 31
        }
      ]
    },
    {
      "cell_type": "code",
      "source": [
        "#lets plot what the prediction looks like\n",
        "k=linear.predict(x_train)\n",
        "plt.plot(x_train,k,color='red')\n",
        "plt.scatter(x, y, color='blue')\n",
        "plt.xlabel(\"X\")\n",
        "plt.ylabel(\"y\")\n",
        "plt.show()\n"
      ],
      "metadata": {
        "colab": {
          "base_uri": "https://localhost:8080/",
          "height": 470
        },
        "id": "3kY9drRS-bFb",
        "outputId": "e14e70f8-9cc6-4828-e996-861a38bf99a4"
      },
      "execution_count": 36,
      "outputs": [
        {
          "output_type": "display_data",
          "data": {
            "text/plain": [
              "<Figure size 640x480 with 1 Axes>"
            ],
            "image/png": "[encoded data removed]"
          },
          "metadata": {}
        }
      ]
    },
    {
      "cell_type": "code",
      "source": [
        "#lets transform x into degree 2\n",
        "polynomial=PolynomialFeatures(degree=2)\n",
        "x_train_transformed=polynomial.fit_transform(x_train)\n",
        "print(x_train_transformed)"
      ],
      "metadata": {
        "colab": {
          "base_uri": "https://localhost:8080/"
        },
        "id": "uYGnyXJO_lWY",
        "outputId": "da7e3ffd-2300-49b1-efd0-04f29bc71ed8"
      },
      "execution_count": 38,
      "outputs": [
        {
          "output_type": "stream",
          "name": "stdout",
          "text": [
            "[[1.00000000e+00 3.14835908e+01 9.91216490e+02]\n",
            " [1.00000000e+00 3.00690019e+01 9.04144878e+02]\n",
            " [1.00000000e+00 3.15770015e+01 9.97107026e+02]\n",
            " [1.00000000e+00 2.74116494e+00 7.51398523e+00]\n",
            " [1.00000000e+00 2.81832995e+01 7.94298373e+02]\n",
            " [1.00000000e+00 2.52026168e+01 6.35171892e+02]\n",
            " [1.00000000e+00 1.82980729e+01 3.34819470e+02]\n",
            " [1.00000000e+00 3.15370098e+01 9.94582987e+02]\n",
            " [1.00000000e+00 3.00104580e+01 9.00627588e+02]\n",
            " [1.00000000e+00 6.83607044e+00 4.67318591e+01]\n",
            " [1.00000000e+00 1.45594335e+01 2.11977103e+02]\n",
            " [1.00000000e+00 6.53212981e+00 4.26687198e+01]\n",
            " [1.00000000e+00 2.94335422e+01 8.66333408e+02]\n",
            " [1.00000000e+00 5.60535001e+00 3.14199487e+01]\n",
            " [1.00000000e+00 9.55264250e-01 9.12529787e-01]\n",
            " [1.00000000e+00 1.45408658e+01 2.11436779e+02]\n",
            " [1.00000000e+00 2.45588042e+01 6.03134866e+02]\n",
            " [1.00000000e+00 3.03028092e+01 9.18260248e+02]\n",
            " [1.00000000e+00 2.73864257e+01 7.50016315e+02]\n",
            " [1.00000000e+00 9.13471230e+00 8.34429687e+01]\n",
            " [1.00000000e+00 2.09661878e+01 4.39581029e+02]\n",
            " [1.00000000e+00 2.22401842e+01 4.94625792e+02]\n",
            " [1.00000000e+00 6.64197525e+00 4.41158352e+01]\n",
            " [1.00000000e+00 1.06093039e+01 1.12557330e+02]\n",
            " [1.00000000e+00 8.38011734e+00 7.02263667e+01]\n",
            " [1.00000000e+00 6.82335473e+00 4.65581698e+01]\n",
            " [1.00000000e+00 7.61646608e+00 5.80105556e+01]\n",
            " [1.00000000e+00 1.90139384e+01 3.61529854e+02]\n",
            " [1.00000000e+00 7.77284678e+00 6.04171470e+01]\n",
            " [1.00000000e+00 2.14058447e+01 4.58210189e+02]\n",
            " [1.00000000e+00 1.89981573e+01 3.60929982e+02]\n",
            " [1.00000000e+00 2.07205984e+01 4.29343199e+02]\n",
            " [1.00000000e+00 1.88018525e+01 3.53509658e+02]\n",
            " [1.00000000e+00 9.75471343e+00 9.51544341e+01]\n",
            " [1.00000000e+00 3.04926371e+01 9.29800917e+02]\n",
            " [1.00000000e+00 1.15736338e+01 1.33948999e+02]\n",
            " [1.00000000e+00 4.20894276e+00 1.77151991e+01]\n",
            " [1.00000000e+00 6.58546370e+00 4.33683321e+01]\n",
            " [1.00000000e+00 1.55342590e+01 2.41313203e+02]\n",
            " [1.00000000e+00 3.37194531e+00 1.13700152e+01]\n",
            " [1.00000000e+00 6.98684462e-01 4.88159978e-01]]\n"
          ]
        }
      ]
    },
    {
      "cell_type": "code",
      "source": [
        "x_test_transformed=polynomial.fit_transform(x_test)\n",
        "print(x_test_transformed)"
      ],
      "metadata": {
        "colab": {
          "base_uri": "https://localhost:8080/"
        },
        "id": "3Zuogn0qENhy",
        "outputId": "3f1e4be6-bbae-478c-97e0-1267c9099f6a"
      },
      "execution_count": 40,
      "outputs": [
        {
          "output_type": "stream",
          "name": "stdout",
          "text": [
            "[[  1.          22.43451916 503.30764974]\n",
            " [  1.          19.64956679 386.10547516]\n",
            " [  1.          20.87064432 435.58379442]\n",
            " [  1.           2.22646051   4.95712641]\n",
            " [  1.          17.31224224 299.71373123]\n",
            " [  1.           8.76150131  76.76390516]\n",
            " [  1.          29.89245187 893.55867903]\n",
            " [  1.           8.4170667   70.84701177]\n",
            " [  1.          29.07097922 845.12183288]]\n"
          ]
        }
      ]
    },
    {
      "cell_type": "code",
      "source": [
        "linear=LinearRegression()\n",
        "linear.fit(x_train_transformed,y_train)"
      ],
      "metadata": {
        "colab": {
          "base_uri": "https://localhost:8080/",
          "height": 95
        },
        "id": "jx-i_OlcEVUk",
        "outputId": "f5d3b924-e16c-471d-b035-5f582fcd7a8d"
      },
      "execution_count": 43,
      "outputs": [
        {
          "output_type": "execute_result",
          "data": {
            "text/plain": [
              "LinearRegression()"
            ],
            "text/html": [
              "<style>#sk-container-id-3 {color: black;background-color: white;}#sk-container-id-3 pre{padding: 0;}#sk-container-id-3 div.sk-toggleable {background-color: white;}#sk-container-id-3 label.sk-toggleable__label {cursor: pointer;display: block;width: 100%;margin-bottom: 0;padding: 0.3em;box-sizing: border-box;text-align: center;}#sk-container-id-3 label.sk-toggleable__label-arrow:before {content: \"▸\";float: left;margin-right: 0.25em;color: #696969;}#sk-container-id-3 label.sk-toggleable__label-arrow:hover:before {color: black;}#sk-container-id-3 div.sk-estimator:hover label.sk-toggleable__label-arrow:before {color: black;}#sk-container-id-3 div.sk-toggleable__content {max-height: 0;max-width: 0;overflow: hidden;text-align: left;background-color: #f0f8ff;}#sk-container-id-3 div.sk-toggleable__content pre {margin: 0.2em;color: black;border-radius: 0.25em;background-color: #f0f8ff;}#sk-container-id-3 input.sk-toggleable__control:checked~div.sk-toggleable__content {max-height: 200px;max-width: 100%;overflow: auto;}#sk-container-id-3 input.sk-toggleable__control:checked~label.sk-toggleable__label-arrow:before {content: \"▾\";}#sk-container-id-3 div.sk-estimator input.sk-toggleable__control:checked~label.sk-toggleable__label {background-color: #d4ebff;}#sk-container-id-3 div.sk-label input.sk-toggleable__control:checked~label.sk-toggleable__label {background-color: #d4ebff;}#sk-container-id-3 input.sk-hidden--visually {border: 0;clip: rect(1px 1px 1px 1px);clip: rect(1px, 1px, 1px, 1px);height: 1px;margin: -1px;overflow: hidden;padding: 0;position: absolute;width: 1px;}#sk-container-id-3 div.sk-estimator {font-family: monospace;background-color: #f0f8ff;border: 1px dotted black;border-radius: 0.25em;box-sizing: border-box;margin-bottom: 0.5em;}#sk-container-id-3 div.sk-estimator:hover {background-color: #d4ebff;}#sk-container-id-3 div.sk-parallel-item::after {content: \"\";width: 100%;border-bottom: 1px solid gray;flex-grow: 1;}#sk-container-id-3 div.sk-label:hover label.sk-toggleable__label {background-color: #d4ebff;}#sk-container-id-3 div.sk-serial::before {content: \"\";position: absolute;border-left: 1px solid gray;box-sizing: border-box;top: 0;bottom: 0;left: 50%;z-index: 0;}#sk-container-id-3 div.sk-serial {display: flex;flex-direction: column;align-items: center;background-color: white;padding-right: 0.2em;padding-left: 0.2em;position: relative;}#sk-container-id-3 div.sk-item {position: relative;z-index: 1;}#sk-container-id-3 div.sk-parallel {display: flex;align-items: stretch;justify-content: center;background-color: white;position: relative;}#sk-container-id-3 div.sk-item::before, #sk-container-id-3 div.sk-parallel-item::before {content: \"\";position: absolute;border-left: 1px solid gray;box-sizing: border-box;top: 0;bottom: 0;left: 50%;z-index: -1;}#sk-container-id-3 div.sk-parallel-item {display: flex;flex-direction: column;z-index: 1;position: relative;background-color: white;}#sk-container-id-3 div.sk-parallel-item:first-child::after {align-self: flex-end;width: 50%;}#sk-container-id-3 div.sk-parallel-item:last-child::after {align-self: flex-start;width: 50%;}#sk-container-id-3 div.sk-parallel-item:only-child::after {width: 0;}#sk-container-id-3 div.sk-dashed-wrapped {border: 1px dashed gray;margin: 0 0.4em 0.5em 0.4em;box-sizing: border-box;padding-bottom: 0.4em;background-color: white;}#sk-container-id-3 div.sk-label label {font-family: monospace;font-weight: bold;display: inline-block;line-height: 1.2em;}#sk-container-id-3 div.sk-label-container {text-align: center;}#sk-container-id-3 div.sk-container {/* jupyter's `normalize.less` sets `[hidden] { display: none; }` but bootstrap.min.css set `[hidden] { display: none !important; }` so we also need the `!important` here to be able to override the default hidden behavior on the sphinx rendered scikit-learn.org. See: https://github.com/scikit-learn/scikit-learn/issues/21755 */display: inline-block !important;position: relative;}#sk-container-id-3 div.sk-text-repr-fallback {display: none;}</style><div id=\"sk-container-id-3\" class=\"sk-top-container\"><div class=\"sk-text-repr-fallback\"><pre>LinearRegression()</pre><b>In a Jupyter environment, please rerun this cell to show the HTML representation or trust the notebook. <br />On GitHub, the HTML representation is unable to render, please try loading this page with nbviewer.org.</b></div><div class=\"sk-container\" hidden><div class=\"sk-item\"><div class=\"sk-estimator sk-toggleable\"><input class=\"sk-toggleable__control sk-hidden--visually\" id=\"sk-estimator-id-3\" type=\"checkbox\" checked><label for=\"sk-estimator-id-3\" class=\"sk-toggleable__label sk-toggleable__label-arrow\">LinearRegression</label><div class=\"sk-toggleable__content\"><pre>LinearRegression()</pre></div></div></div></div></div>"
            ]
          },
          "metadata": {},
          "execution_count": 43
        }
      ]
    },
    {
      "cell_type": "code",
      "source": [
        "y_predict=linear.predict(x_test_transformed)\n",
        "print(y_predict)"
      ],
      "metadata": {
        "colab": {
          "base_uri": "https://localhost:8080/"
        },
        "id": "Jn_8FlItEsRO",
        "outputId": "9bd44788-2a4a-4457-ed46-3713d9381cb9"
      },
      "execution_count": 45,
      "outputs": [
        {
          "output_type": "stream",
          "name": "stdout",
          "text": [
            "[[265.87108445]\n",
            " [205.87752098]\n",
            " [231.22721937]\n",
            " [  6.59179346]\n",
            " [161.51298673]\n",
            " [ 45.76270324]\n",
            " [464.72556545]\n",
            " [ 42.63203923]\n",
            " [440.09640605]]\n"
          ]
        }
      ]
    },
    {
      "cell_type": "code",
      "source": [
        "r2_score(y_test,y_predict)"
      ],
      "metadata": {
        "colab": {
          "base_uri": "https://localhost:8080/"
        },
        "id": "vuXNmU7pE2dG",
        "outputId": "cd974fba-70f2-4b1f-b40e-7065e5d42cf0"
      },
      "execution_count": 56,
      "outputs": [
        {
          "output_type": "execute_result",
          "data": {
            "text/plain": [
              "1.0"
            ]
          },
          "metadata": {},
          "execution_count": 56
        }
      ]
    },
    {
      "cell_type": "code",
      "source": [
        "k=linear.predict(x_train_transformed)\n",
        "print(k)"
      ],
      "metadata": {
        "colab": {
          "base_uri": "https://localhost:8080/"
        },
        "id": "l3rKYr_AFG1m",
        "outputId": "b3dd9199-4375-4cd4-a78d-3b560a1667f5"
      },
      "execution_count": 58,
      "outputs": [
        {
          "output_type": "stream",
          "name": "stdout",
          "text": [
            "[[514.35004057]\n",
            " [470.10693986]\n",
            " [517.3420138 ]\n",
            " [  8.12757508]\n",
            " [414.24083604]\n",
            " [333.18725429]\n",
            " [179.55877149]\n",
            " [516.0599986 ]\n",
            " [468.31902283]\n",
            " [ 29.78396478]\n",
            " [116.26826824]\n",
            " [ 27.60042481]\n",
            " [450.88347517]\n",
            " [ 21.51264938]\n",
            " [  3.93389702]\n",
            " [115.98882244]\n",
            " [316.84683505]\n",
            " [477.28152878]\n",
            " [391.7013703 ]\n",
            " [ 49.28884051]\n",
            " [233.27360843]\n",
            " [261.43298789]\n",
            " [ 28.3789052 ]\n",
            " [ 64.58331676]\n",
            " [ 42.303242  ]\n",
            " [ 29.69076225]\n",
            " [ 35.81351082]\n",
            " [193.27189646]\n",
            " [ 37.09499689]\n",
            " [242.80801691]\n",
            " [192.96406952]\n",
            " [228.03189863]\n",
            " [189.15575513]\n",
            " [ 55.45457377]\n",
            " [483.14677712]\n",
            " [ 75.76131654]\n",
            " [ 13.96207095]\n",
            " [ 27.97689791]\n",
            " [131.42373111]\n",
            " [ 10.37098025]\n",
            " [  3.59342222]]\n"
          ]
        }
      ]
    },
    {
      "cell_type": "code",
      "source": [
        "plt.scatter(x_train, k, linewidth=9 , label=\"Predictions\")\n",
        "plt.plot(x_train, y_train, \"b.\",label='Training points')\n",
        "\n",
        "plt.xlabel(\"X\")\n",
        "plt.ylabel(\"y\")\n",
        "plt.legend()\n",
        "plt.show()"
      ],
      "metadata": {
        "colab": {
          "base_uri": "https://localhost:8080/",
          "height": 470
        },
        "id": "FGWDsIiqIJSh",
        "outputId": "a6c98102-1ada-4e95-e8d2-865f46719374"
      },
      "execution_count": 65,
      "outputs": [
        {
          "output_type": "display_data",
          "data": {
            "text/plain": [
              "<Figure size 640x480 with 1 Axes>"
            ],
            "image/png": "[encoded data removed]"
          },
          "metadata": {}
        }
      ]
    }
  ]
}